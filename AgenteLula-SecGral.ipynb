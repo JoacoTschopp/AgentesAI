{
    "cells": [
        {
            "cell_type": "code",
            "execution_count": 13,
            "metadata": {},
            "outputs": [],
            "source": [
                "#!pip install PyPDF2\n",
                "#!pip install tinydb\n",
                "#!pip install langchain\n",
                "#!pip install langchain-community\n",
                "#!pip install pandas\n"
            ]
        },
        {
            "cell_type": "code",
            "execution_count": 1,
            "metadata": {},
            "outputs": [
                {
                    "name": "stderr",
                    "output_type": "stream",
                    "text": [
                        "C:\\Users\\tschoppj\\AppData\\Local\\Temp\\ipykernel_3400\\930510609.py:13: LangChainDeprecationWarning: The class `AzureChatOpenAI` was deprecated in LangChain 0.0.10 and will be removed in 1.0. An updated version of the class exists in the :class:`~langchain-openai package and should be used instead. To use it run `pip install -U :class:`~langchain-openai` and import as `from :class:`~langchain_openai import AzureChatOpenAI``.\n",
                        "  llm = AzureChatOpenAI(\n",
                        "c:\\ProyectoPY\\AgentesAI\\venv\\Lib\\site-packages\\langchain_community\\chat_models\\azure_openai.py:174: UserWarning: As of openai>=1.0.0, Azure endpoints should be specified via the `azure_endpoint` param not `openai_api_base` (or alias `base_url`). Updating `openai_api_base` from https://sg-openai.openai.azure.com/ to https://sg-openai.openai.azure.com/openai.\n",
                        "  warnings.warn(\n",
                        "c:\\ProyectoPY\\AgentesAI\\venv\\Lib\\site-packages\\langchain_community\\chat_models\\azure_openai.py:181: UserWarning: As of openai>=1.0.0, if `deployment_name` (or alias `azure_deployment`) is specified then `openai_api_base` (or alias `base_url`) should not be. Instead use `deployment_name` (or alias `azure_deployment`) and `azure_endpoint`.\n",
                        "  warnings.warn(\n",
                        "c:\\ProyectoPY\\AgentesAI\\venv\\Lib\\site-packages\\langchain_community\\chat_models\\azure_openai.py:189: UserWarning: As of openai>=1.0.0, if `openai_api_base` (or alias `base_url`) is specified it is expected to be of the form https://example-resource.azure.openai.com/openai/deployments/example-deployment. Updating https://sg-openai.openai.azure.com/ to https://sg-openai.openai.azure.com/openai.\n",
                        "  warnings.warn(\n"
                    ]
                }
            ],
            "source": [
                "# %% [code]\n",
                "import os\n",
                "#from langchain.llms import OpenAI\n",
                "from langchain.prompts import PromptTemplate\n",
                "from langchain.chains import LLMChain\n",
                "import PyPDF2\n",
                "from tinydb import TinyDB, Query\n",
                "from langchain.chat_models import AzureChatOpenAI\n",
                "\n",
                "# Configuración del LLM (ajusta el parámetro 'temperature' o agrega tus credenciales si es necesario)\n",
                "\n",
                "\n",
                "llm = AzureChatOpenAI(\n",
                "    openai_api_base=\"https://sg-openai.openai.azure.com/\",\n",
                "    openai_api_key=\"647e7eaa5678417f8667203df58216ee\",  # Reemplaza con tu clave de API\n",
                "    openai_api_version=\"2023-03-15-preview\",  # Ajusta según la versión que estés usando\n",
                "    deployment_name=\"gpt-4o\",\n",
                "    temperature=0.2\n",
                ")\n",
                "\n",
                "# Inicialización de TinyDB (la base se almacenará en el archivo history.json)\n",
                "db = TinyDB(\"ResCTM.json\")\n",
                "records_table = db.table(\"records\")\n"
            ]
        },
        {
            "cell_type": "markdown",
            "metadata": {},
            "source": [
                "# LLM local Ollama; Llama3.2 de 3b"
            ]
        },
        {
            "cell_type": "code",
            "execution_count": 43,
            "metadata": {},
            "outputs": [],
            "source": [
                "# %% [code]\n",
                "import os\n",
                "from langchain.prompts import PromptTemplate\n",
                "from langchain.chains import LLMChain\n",
                "import PyPDF2\n",
                "from tinydb import TinyDB, Query\n",
                "from langchain_ollama.llms import OllamaLLM\n",
                "\n",
                "# Configuración del LLM para usar Ollama en la red interna\n",
                "llm = OllamaLLM(\n",
                "    model=\"llama3.2:latest\",\n",
                "    #base_url=\"http://localhost/11434/api \",#10.209.0.140:8000/api/proxy\",  # Ajusta la IP y el puerto según tu configuración\n",
                "    temperature=0.2\n",
                ")\n",
                "\n",
                "# Inicialización de TinyDB (la base se almacenará en el archivo ResCTM.json)\n",
                "db = TinyDB(\"ResCTM.json\")\n",
                "records_table = db.table(\"records\")"
            ]
        },
        {
            "cell_type": "code",
            "execution_count": 44,
            "metadata": {},
            "outputs": [
                {
                    "name": "stdout",
                    "output_type": "stream",
                    "text": [
                        "¡Hola! Estoy bien, gracias. Soy un modelo de lenguaje artificial, así que no tengo emociones o sentimientos como los humanos, pero estoy aquí para ayudarte con cualquier pregunta o tema que desees discutir. ¿En qué puedo ayudarte hoy?\n"
                    ]
                }
            ],
            "source": [
                "response = llm.predict(\"Hola, ¿cómo estás?\")\n",
                "\n",
                "print(response)"
            ]
        },
        {
            "cell_type": "markdown",
            "metadata": {},
            "source": [
                "# Funciones de procesamiento"
            ]
        },
        {
            "cell_type": "code",
            "execution_count": 45,
            "metadata": {},
            "outputs": [],
            "source": [
                "# %% [code]\n",
                "def pdf_to_text(pdf_path):\n",
                "    \"\"\"\n",
                "    Extrae el texto de un archivo PDF utilizando PyPDF2.\n",
                "    \"\"\"\n",
                "    text = \"\"\n",
                "    with open(pdf_path, \"rb\") as file:\n",
                "        reader = PyPDF2.PdfReader(file)\n",
                "        for page in reader.pages:\n",
                "            page_text = page.extract_text()\n",
                "            if page_text:\n",
                "                text += page_text + \"\\n\"\n",
                "    return text\n"
            ]
        },
        {
            "cell_type": "markdown",
            "metadata": {},
            "source": [
                "# 1. Corrección de la transcripción usando LangChain"
            ]
        },
        {
            "cell_type": "code",
            "execution_count": 46,
            "metadata": {},
            "outputs": [],
            "source": [
                "# %% [code]\n",
                "correction_prompt = PromptTemplate(\n",
                "    input_variables=[\"text\"],\n",
                "    template=\"Corrige la transcripción del siguiente texto:\\n\\n{text}\\n\\nTexto corregido:\"\n",
                ")\n",
                "\n",
                "def correct_transcription(text):\n",
                "    \"\"\"\n",
                "    Utiliza un LLM para corregir la transcripción extraída del PDF.\n",
                "    \"\"\"\n",
                "    chain = LLMChain(llm=llm, prompt=correction_prompt)\n",
                "    corrected = chain.run(text=text)\n",
                "    return corrected\n"
            ]
        },
        {
            "cell_type": "markdown",
            "metadata": {},
            "source": [
                "# 2. Extracción de datos y generación del resumen"
            ]
        },
        {
            "cell_type": "code",
            "execution_count": 47,
            "metadata": {},
            "outputs": [],
            "source": [
                "# Prompt adaptado con instrucciones específicas\n",
                "extraction_prompt = PromptTemplate(\n",
                "    input_variables=[\"text\", \"template_info\"],\n",
                "    template=(\n",
                "        \"Utilizando el siguiente template:\\n\"\n",
                "        \"{template_info}\\n\\n\"\n",
                "        \"Extrae únicamente los datos solicitados y genera un resumen ejecutivo breve (máximo 30 palabras) \"\n",
                "        \"del tema principal del texto, sin incluir detalles menores ni secundarios.\\n\\n\"\n",
                "        \"Texto:\\n{text}\\n\\n\"\n",
                "        \"Datos extraídos y resumen ejecutivo breve:\"\n",
                "    )\n",
                ")\n",
                "\n",
                "def extract_data_summary(text, extraction_template):\n",
                "    \"\"\"\n",
                "    Extrae datos específicos y genera un resumen ejecutivo breve.\n",
                "    \"\"\"\n",
                "    chain = LLMChain(llm=llm, prompt=extraction_prompt)\n",
                "    result = chain.run(text=text, template_info=extraction_template)\n",
                "    return result\n"
            ]
        },
        {
            "cell_type": "markdown",
            "metadata": {},
            "source": [
                "# 3. Clasificación de la resolución"
            ]
        },
        {
            "cell_type": "code",
            "execution_count": 48,
            "metadata": {},
            "outputs": [],
            "source": [
                "CATEGORIAS_CTMSG = {\n",
                "    \"Reglamentación y Normativas\": [\n",
                "        \"REGLAMENTO\",\n",
                "        \"MANUAL DE NORMA\",\n",
                "        \"MANUAL Normas Compras y Contrataciones\",\n",
                "        \"NORMA ISO\",\n",
                "        \"LICENCIA ESPECIAL\",\n",
                "        \"ESTATUTO DEL PERSONAL\",\n",
                "        \"SUMARIO ADMINISTRATIVO\"\n",
                "    ],\n",
                "    \"Administración Financiera y Contable\": [\n",
                "        \"REMUNERACIONES\",\n",
                "        \"REGISTRACION CONTABLE\",\n",
                "        \"BALANCES\",\n",
                "        \"BANCOS\",\n",
                "        \"PRESUPUESTOS\",\n",
                "        \"TARIFAS ENERGÍA\"\n",
                "    ],\n",
                "    \"Contrataciones y Convenios\": [\n",
                "        \"CONVENIO\",\n",
                "        \"CONTRATACIONES Y COMPRAS\",\n",
                "        \"COMPRAS AUTOMOTORES\",\n",
                "        \"CONCURSOS PRECIOS\",\n",
                "        \"PODERES ABOGADOS\"\n",
                "    ],\n",
                "    \"Infraestructura y Mantenimiento\": [\n",
                "        \"EDIFICIOS\",\n",
                "        \"VIVIENDAS\",\n",
                "        \"EQUIPAMIENTO REPRESA\",\n",
                "        \"MANTENIMIENTO\",\n",
                "        \"TRANSFORMADORES\",\n",
                "        \"SEGURIDAD PRESA\",\n",
                "        \"PUERTO SECO\"\n",
                "    ],\n",
                "    \"Servicios Médicos y Sociales\": [\n",
                "        \"PRESTAMOS PERSONAL\",\n",
                "        \"SERVICIOS MÉDICOS\",\n",
                "        \"ATENCIÓN MÉDICA\",\n",
                "        \"SEGUROS VIDA\"\n",
                "    ],\n",
                "    \"Comunicaciones y Relaciones Institucionales\": [\n",
                "        \"RELACIONES PÚBLICAS\",\n",
                "        \"COMUNICACIÓN INSTITUCIONAL\",\n",
                "        \"PUBLICIDAD\",\n",
                "        \"LOGOTIPO\",\n",
                "        \"FIRMA DIGITAL\",\n",
                "        \"PAGINA WEB\"\n",
                "    ],\n",
                "    \"Auditorías y Control Interno\": [\n",
                "        \"AUDITORIA INTERNA\",\n",
                "        \"AUDITORÍA EXTERNA\",\n",
                "        \"CONTROL GESTIÓN\"\n",
                "    ],\n",
                "    \"Recursos Humanos\": [\n",
                "        \"CONTROL ASISTENCIA\",\n",
                "        \"EPIDEMIOLOGÍA\",\n",
                "        \"CURSOS Y SEMINARIOS\",\n",
                "        \"DESVINCULACIONES\"\n",
                "    ],\n",
                "    \"Ambiental y Social\": [\n",
                "        \"RIBEREÑOS\",\n",
                "        \"MERCOSUR\",\n",
                "        \"MERCADOS ELÉCTRICOS\",\n",
                "        \"CULTURALES\",\n",
                "        \"SAOTTA\"\n",
                "    ],\n",
                "    \"Gestión y Operaciones\": [\n",
                "        \"DIRECCIÓN EJECUTIVA\",\n",
                "        \"GERENCIA\",\n",
                "        \"DELEGACIONES\",\n",
                "        \"TAISG\",\n",
                "        \"HORARIOS OFICINAS\",\n",
                "        \"GRUPOS TRABAJO\",\n",
                "        \"CENTRO DOCUMENTACIÓN\",\n",
                "        \"RENOVACIÓN SALTO GRANDE\"\n",
                "    ]\n",
                "}\n"
            ]
        },
        {
            "cell_type": "code",
            "execution_count": 49,
            "metadata": {},
            "outputs": [],
            "source": [
                "# Prompt adaptado\n",
                "classification_prompt = PromptTemplate(\n",
                "    input_variables=[\"text\", \"data_summary\", \"categorias\"],\n",
                "    template=(\n",
                "        \"Basándote en el siguiente texto y en los datos extraídos y resumen:\\n\\n\"\n",
                "        \"Texto: {text}\\n\\n\"\n",
                "        \"Datos y resumen: {data_summary}\\n\\n\"\n",
                "        \"Considerando estas categorías disponibles: {categorias}\\n\\n\"\n",
                "        \"Clasifica la resolución estrictamente dentro de una de estas categorías principales.\"\n",
                "    )\n",
                ")\n",
                "\n",
                "# Función ajustada\n",
                "def classify_resolution(text, data_summary):\n",
                "    categorias_str = ', '.join(CATEGORIAS_CTMSG.keys())\n",
                "    chain = LLMChain(llm=llm, prompt=classification_prompt)\n",
                "    classification = chain.run(text=text, data_summary=data_summary, categorias=categorias_str)\n",
                "    return classification\n"
            ]
        },
        {
            "cell_type": "markdown",
            "metadata": {},
            "source": [
                "# Función principal para procesar el PDF y guardar la información en TinyDB"
            ]
        },
        {
            "cell_type": "code",
            "execution_count": 50,
            "metadata": {},
            "outputs": [],
            "source": [
                "import re\n",
                "\n",
                "def parse_data_summary(data_summary):\n",
                "    \"\"\"\n",
                "    Divide el resumen extraído en campos separados.\n",
                "    \"\"\"\n",
                "    fields = [\"Número de resolución\", \"Fecha\", \"Ente emisor\", \"Resumen ejecutivo breve\"]\n",
                "    parsed_data = {}\n",
                "\n",
                "    for field in fields:\n",
                "        pattern = rf\"{field}:\\s*(.+)\"\n",
                "        match = re.search(pattern, data_summary)\n",
                "        if match:\n",
                "            parsed_data[field] = match.group(1).strip()\n",
                "        else:\n",
                "            parsed_data[field] = None\n",
                "\n",
                "    return parsed_data"
            ]
        },
        {
            "cell_type": "code",
            "execution_count": 51,
            "metadata": {},
            "outputs": [],
            "source": [
                "# %% [code]\n",
                "def process_pdf(pdf_path, extraction_template, db_table):\n",
                "    \"\"\"\n",
                "    Procesa un archivo PDF completo: extrae el texto, lo corrige,\n",
                "    extrae datos y resumen, clasifica la resolución y guarda todo en TinyDB.\n",
                "    \"\"\"\n",
                "    file_name = os.path.basename(pdf_path)\n",
                "    \n",
                "    # Verificar si el documento ya se encuentra en la base de datos\n",
                "    Record = Query()\n",
                "    if db_table.search(Record.pdf_file == file_name):\n",
                "        print(f\"El documento {file_name} ya se encuentra registrado en TinyDB.\")\n",
                "        return\n",
                "\n",
                "    # Extracción de texto\n",
                "    raw_text = pdf_to_text(pdf_path)\n",
                "    print(f\"Texto extraído del archivo {file_name}.\")\n",
                "    \n",
                "    # Corrección de la transcripción\n",
                "    corrected_text = correct_transcription(raw_text)\n",
                "    print(\"Transcripción corregida.\")\n",
                "    \n",
                "    # Extracción de datos y resumen\n",
                "    extracted_result = extract_data_summary(corrected_text, extraction_template)\n",
                "    print(\"Datos y resumen extraídos.\")\n",
                "    \n",
                "    # Clasificación de la resolución\n",
                "    classification = classify_resolution(corrected_text, extracted_result)\n",
                "    print(\"Clasificación realizada.\")\n",
                "    \n",
                "    # Crear el registro con la información resultante\n",
                "    parsed_summary = parse_data_summary(extracted_result)\n",
                "\n",
                "    record = {\n",
                "        \"pdf_file\": file_name,\n",
                "        \"text\": corrected_text,\n",
                "        \"numero_resolucion\": parsed_summary[\"Número de resolución\"],\n",
                "        \"fecha\": parsed_summary[\"Fecha\"],\n",
                "        \"ente_emisor\": parsed_summary[\"Ente emisor\"],\n",
                "        \"resumen_ejecutivo\": parsed_summary[\"Resumen ejecutivo breve\"],\n",
                "        \"classification\": classification\n",
                "    }\n",
                "    \n",
                "    # Guardar el registro en TinyDB\n",
                "    db_table.insert(record)\n",
                "    print(f\"El documento {file_name} ha sido registrado en TinyDB.\")\n",
                "\n",
                "    return record\n"
            ]
        },
        {
            "cell_type": "markdown",
            "metadata": {},
            "source": [
                "# Ejecución del procesamiento"
            ]
        },
        {
            "cell_type": "code",
            "execution_count": 52,
            "metadata": {},
            "outputs": [
                {
                    "name": "stdout",
                    "output_type": "stream",
                    "text": [
                        "El documento res00122.pdf ya se encuentra registrado en TinyDB.\n",
                        "El documento res00222.pdf ya se encuentra registrado en TinyDB.\n"
                    ]
                }
            ],
            "source": [
                "# %% [code]\n",
                "# Template explícito para extracción\n",
                "extraction_template = (\n",
                "    \"- Número de resolución:\\n\"\n",
                "    \"- Fecha:\\n\"\n",
                "    \"- Ente emisor:\\n\"\n",
                "    \"- Resumen ejecutivo breve (máximo 30 palabras, tema principal solamente):\"\n",
                ")\n",
                "\n",
                "# Carpeta donde se encuentran los archivos PDF\n",
                "pdf_folder = \"pdfs\"  # Asegúrate de tener esta carpeta y colocar allí tus PDFs\n",
                "\n",
                "# Procesar cada PDF nuevo en la carpeta\n",
                "for file_name in os.listdir(pdf_folder):\n",
                "    if file_name.lower().endswith(\".pdf\"):\n",
                "        pdf_path = os.path.join(pdf_folder, file_name)\n",
                "        process_pdf(pdf_path, extraction_template, records_table)\n"
            ]
        },
        {
            "cell_type": "markdown",
            "metadata": {},
            "source": [
                "# Función para procesar un nuevo PDF individualmente"
            ]
        },
        {
            "cell_type": "code",
            "execution_count": 58,
            "metadata": {},
            "outputs": [
                {
                    "name": "stdout",
                    "output_type": "stream",
                    "text": [
                        "Texto extraído del archivo res00722.pdf.\n",
                        "Transcripción corregida.\n",
                        "Datos y resumen extraídos.\n",
                        "Clasificación realizada.\n",
                        "El documento res00722.pdf ha sido registrado en TinyDB.\n",
                        "{'pdf_file': 'res00722.pdf', 'text': 'Aquí te presento el texto corregido:\\n\\nCOMISIÓN TECNICA MIXTA DE SALTO GRANDE\\nVideoconferencia, 26 de enero de 2022\\nRESOLUCIÓN CTM Nº 007/22 (Acta Nº 1127 - as. 8.7)\\n\\nVISTO: el EE 2021-ALET-0305 y el Memorándum AL N° 395/2021, por el cual se informa y solicita la conformidad de C.T.M.S.G. para el otorgamiento de la escritura definitiva del padrón urbano 28175, Unidad 004, Block C, ubicado en el complejo de viviendas construido por Salto Grande en el barrio San Martín de la Ciudad de Salto y disponer el pago del monto retenido a los presuntos herederos del Señor Hugo Torres García; y\\n\\nCONSIDERANDO: que, con fecha 22 de marzo de 1995 se celebró entre la C.T.M.S.G. y el ex funcionario Señor Hugo Torres García, un compromiso de compraventa respecto del citado padrón urbano 28175;\\n\\nque, el 31 de agosto de 2001, el Sr. Torres canceló la totalidad de precio del compromiso de compraventa, abonando todas las cuotas, tal como se desprende del informe de la Gerencia de Administración General en su Memorándum DI.049.04, de fecha 25 de marzo de 2004;\\n\\nque, mediante la Resolución CTM Nº 067/04, de fecha 21 de abril de 2004, se autorizó al Sr. Torres a ceder los derechos y obligaciones emergentes del Boleto de compra-venta que por la casa “C” 4 del Barrio San Martín de la ciudad de Salto, suscribiera con la C.T.M.S.G.; \\n\\nque, mediante la Resolución MCTM Nº 020/10, de fecha 17 de junio de 2010, se aprobó un Acuerdo de Desvinculación anticipada del Señor Hugo Torres García con el Organismo;\\n\\nque, en virtud del Acuerdo alcanzado para la desvinculación solicitada, se previó que, “...la C.T.M.” abonaría a “el solicitante”, al culminar los trámites de escrituración de la casa “C4” Padrón 28175 -004 de la ciudad de Salto, los cuales se encuentran pendientes de regularización y a cargo del Señor Hugo Torres García, una suma equivalente a $ 100.000. - (pesos cien mil – moneda uruguaya) …\";\\n\\nque, corresponde, a fin de culminar el proceso de enajenación del inmueble citado, otorgar la escritura definitiva en favor del cesionario de los derechos de promitente comprador y liberar el monto de una suma equivalente a $ 100.000. - (pesos cien mil – moneda uruguaya) retenido, a los presuntos herederos del Señor Hugo Torres García; y\\n\\nLO DELIBERADO EN SALA:\\n\\n1. TOMAR CONOCIMIENTO del informe remitido por la Asesoría Letrada en el EE 2021 - ALET-0305 y el Memorándum AL N° 395/2021, para el otorgamiento de la escritura definitiva del padrón urbano 28175.\\n\\n2. DISPONER EL PAGO de la suma retenida en el punto 2 de la Cláusula SEGUNDA, del acuerdo celebrado entre el Señor Hugo Torres García y la C.T.M.S.G., con fecha 30 de junio de 2010, a los presuntos herederos del ex funcionario, previa presentación de certificado notarial que acredite la vocación hereditaria de las personas que comparezcan a su cobro.\\n\\n3. ENCOMENDAR a la Gerencia General y a la Asesoría Letrada, a realizar todas las gestiones necesarias para el cumplimiento de la presente Resolución.\\n\\n4. COMUNICAR la presente Resolución a las Delegaciones Argentina y del Uruguay, a la Gerencia General, a la Asesoría Letrada, a las Auditorías Generales y al Polo Educativo, Científico, Tecnológico y Productivo de Salto Grande.\\n\\n5. PASE, a sus efectos, a la Secretaría General.\\n\\nNicolás Irigoyen\\nLuis Benedetto\\nProsecretario\\nPresidente', 'numero_resolucion': 'CTM Nº 007/22', 'fecha': '26 de enero de 2022', 'ente_emisor': 'COMISIÓN TECNICA MIXTA DE SALTO GRANDE', 'resumen_ejecutivo': None, 'classification': 'La clasificación adecuada para esta resolución sería:\\n\\n**Administración Financiera y Contable**\\n\\nEsta categoría se ajusta a la resolución porque trata sobre el otorgamiento de escritura definitiva de un inmueble, el pago de una suma retenida y la liberación del monto correspondiente a los presuntos herederos del Señor Hugo Torres García. La resolución también implica aspectos contables y financieros, como el pago y la liberación de fondos.'}\n"
                    ]
                }
            ],
            "source": [
                "# %% [code]\n",
                "def procesar_nuevo_pdf(pdf_path, extraction_template, db_table):\n",
                "    \"\"\"\n",
                "    Procesa un nuevo PDF individualmente y lo añade a la base de datos TinyDB.\n",
                "    \"\"\"\n",
                "        # Crear el registro con la información resultante\n",
                "    record = {\n",
                "        \"pdf_file\": \"New Resolucion\",\n",
                "        \"text\": \"corrected_text\",\n",
                "        \"data_summary\": \"extracted_result\",\n",
                "        \"classification\": \"classification\"\n",
                "    }\n",
                "\n",
                "    file_name = os.path.basename(pdf_path)\n",
                "    Record = Query()\n",
                "    if db_table.search(Record.pdf_file == file_name):\n",
                "        print(f\"El documento {file_name} ya se encuentra registrado.\")\n",
                "        return\n",
                "    else:\n",
                "        record = process_pdf(pdf_path, extraction_template, db_table)\n",
                "        print(record)\n",
                "        \n",
                "\n",
                "#Ejemplo de llamada para procesar un nuevo PDF:\n",
                "nuevo_pdf = \"pdfs/new/res00722.pdf\"\n",
                "procesar_nuevo_pdf(nuevo_pdf, extraction_template, records_table)\n",
                "\n"
            ]
        },
        {
            "cell_type": "markdown",
            "metadata": {},
            "source": [
                "# Inspeccion de DB"
            ]
        },
        {
            "cell_type": "code",
            "execution_count": 59,
            "metadata": {},
            "outputs": [
                {
                    "name": "stdout",
                    "output_type": "stream",
                    "text": [
                        "{'pdf_file': 'res00722.pdf', 'text': 'Aquí te presento el texto corregido:\\n\\nCOMISIÓN TECNICA MIXTA DE SALTO GRANDE\\nVideoconferencia, 26 de enero de 2022\\nRESOLUCIÓN CTM Nº 007/22 (Acta Nº 1127 - as. 8.7)\\n\\nVISTO: el EE 2021-ALET-0305 y el Memorándum AL N° 395/2021, por el cual se informa y solicita la conformidad de C.T.M.S.G. para el otorgamiento de la escritura definitiva del padrón urbano 28175, Unidad 004, Block C, ubicado en el complejo de viviendas construido por Salto Grande en el barrio San Martín de la Ciudad de Salto y disponer el pago del monto retenido a los presuntos herederos del Señor Hugo Torres García; y\\n\\nCONSIDERANDO: que, con fecha 22 de marzo de 1995 se celebró entre la C.T.M.S.G. y el ex funcionario Señor Hugo Torres García, un compromiso de compraventa respecto del citado padrón urbano 28175;\\n\\nque, el 31 de agosto de 2001, el Sr. Torres canceló la totalidad de precio del compromiso de compraventa, abonando todas las cuotas, tal como se desprende del informe de la Gerencia de Administración General en su Memorándum DI.049.04, de fecha 25 de marzo de 2004;\\n\\nque, mediante la Resolución CTM Nº 067/04, de fecha 21 de abril de 2004, se autorizó al Sr. Torres a ceder los derechos y obligaciones emergentes del Boleto de compra-venta que por la casa “C” 4 del Barrio San Martín de la ciudad de Salto, suscribiera con la C.T.M.S.G.; \\n\\nque, mediante la Resolución MCTM Nº 020/10, de fecha 17 de junio de 2010, se aprobó un Acuerdo de Desvinculación anticipada del Señor Hugo Torres García con el Organismo;\\n\\nque, en virtud del Acuerdo alcanzado para la desvinculación solicitada, se previó que, “...la C.T.M.” abonaría a “el solicitante”, al culminar los trámites de escrituración de la casa “C4” Padrón 28175 -004 de la ciudad de Salto, los cuales se encuentran pendientes de regularización y a cargo del Señor Hugo Torres García, una suma equivalente a $ 100.000. - (pesos cien mil – moneda uruguaya) …\";\\n\\nque, corresponde, a fin de culminar el proceso de enajenación del inmueble citado, otorgar la escritura definitiva en favor del cesionario de los derechos de promitente comprador y liberar el monto de una suma equivalente a $ 100.000. - (pesos cien mil – moneda uruguaya) retenido, a los presuntos herederos del Señor Hugo Torres García; y\\n\\nLO DELIBERADO EN SALA:\\n\\n1. TOMAR CONOCIMIENTO del informe remitido por la Asesoría Letrada en el EE 2021 - ALET-0305 y el Memorándum AL N° 395/2021, para el otorgamiento de la escritura definitiva del padrón urbano 28175.\\n\\n2. DISPONER EL PAGO de la suma retenida en el punto 2 de la Cláusula SEGUNDA, del acuerdo celebrado entre el Señor Hugo Torres García y la C.T.M.S.G., con fecha 30 de junio de 2010, a los presuntos herederos del ex funcionario, previa presentación de certificado notarial que acredite la vocación hereditaria de las personas que comparezcan a su cobro.\\n\\n3. ENCOMENDAR a la Gerencia General y a la Asesoría Letrada, a realizar todas las gestiones necesarias para el cumplimiento de la presente Resolución.\\n\\n4. COMUNICAR la presente Resolución a las Delegaciones Argentina y del Uruguay, a la Gerencia General, a la Asesoría Letrada, a las Auditorías Generales y al Polo Educativo, Científico, Tecnológico y Productivo de Salto Grande.\\n\\n5. PASE, a sus efectos, a la Secretaría General.\\n\\nNicolás Irigoyen\\nLuis Benedetto\\nProsecretario\\nPresidente', 'numero_resolucion': 'CTM Nº 007/22', 'fecha': '26 de enero de 2022', 'ente_emisor': 'COMISIÓN TECNICA MIXTA DE SALTO GRANDE', 'resumen_ejecutivo': None, 'classification': 'La clasificación adecuada para esta resolución sería:\\n\\n**Administración Financiera y Contable**\\n\\nEsta categoría se ajusta a la resolución porque trata sobre el otorgamiento de escritura definitiva de un inmueble, el pago de una suma retenida y la liberación del monto correspondiente a los presuntos herederos del Señor Hugo Torres García. La resolución también implica aspectos contables y financieros, como el pago y la liberación de fondos.'}\n",
                        "pdf_file:\n",
                        "res00722.pdf\n",
                        "----------------------------------------------------------------------------------------------------\n",
                        "text:\n",
                        "Aquí te presento el texto corregido:\n",
                        "\n",
                        "COMISIÓN TECNICA MIXTA DE SALTO GRANDE\n",
                        "Videoconferencia, 26 de enero de 2022\n",
                        "RESOLUCIÓN CTM Nº 007/22 (Acta Nº 1127 - as. 8.7)\n",
                        "\n",
                        "VISTO: el EE 2021-ALET-0305 y el Memorándum AL N° 395/2021, por el cual se informa y solicita la conformidad de C.T.M.S.G. para el oto...\n",
                        "----------------------------------------------------------------------------------------------------\n",
                        "numero_resolucion:\n",
                        "CTM Nº 007/22\n",
                        "----------------------------------------------------------------------------------------------------\n",
                        "fecha:\n",
                        "26 de enero de 2022\n",
                        "----------------------------------------------------------------------------------------------------\n",
                        "ente_emisor:\n",
                        "COMISIÓN TECNICA MIXTA DE SALTO GRANDE\n",
                        "----------------------------------------------------------------------------------------------------\n",
                        "resumen_ejecutivo:\n",
                        "None\n",
                        "----------------------------------------------------------------------------------------------------\n",
                        "classification:\n",
                        "La clasificación adecuada para esta resolución sería:\n",
                        "\n",
                        "**Administración Financiera y Contable**\n",
                        "\n",
                        "Esta categoría se ajusta a la resolución porque trata sobre el otorgamiento de escritura definitiva de un inmueble, el pago de una suma retenida y la liberación del monto correspondiente a los presuntos ...\n",
                        "----------------------------------------------------------------------------------------------------\n"
                    ]
                }
            ],
            "source": [
                "import pandas as pd\n",
                "\n",
                "db = TinyDB(\"ResCTM.json\")\n",
                "records_table = db.table(\"records\")\n",
                "\n",
                "registro = records_table.get(doc_id=7)\n",
                "\n",
                "print(registro)\n",
                "\n",
                "if registro:\n",
                "    for campo, valor in registro.items():\n",
                "        print(f\"{campo}:\")\n",
                "        if isinstance(valor, str) and len(valor) > 300:\n",
                "            print(valor[:300] + \"...\")\n",
                "        else:\n",
                "            print(valor)\n",
                "        print(\"-\" * 100)\n",
                "else:\n",
                "    print(\"Registro no encontrado.\")\n",
                "\n"
            ]
        },
        {
            "cell_type": "code",
            "execution_count": 55,
            "metadata": {},
            "outputs": [],
            "source": [
                "#db = TinyDB('historial.json')\n",
                "#db.truncate()  # Esto vacía completamente la base de datos\n",
                "#db.close()"
            ]
        }
    ],
    "metadata": {
        "kernelspec": {
            "display_name": "venv",
            "language": "python",
            "name": "python3"
        },
        "language_info": {
            "codemirror_mode": {
                "name": "ipython",
                "version": 3
            },
            "file_extension": ".py",
            "mimetype": "text/x-python",
            "name": "python",
            "nbconvert_exporter": "python",
            "pygments_lexer": "ipython3",
            "version": "3.12.9"
        }
    },
    "nbformat": 4,
    "nbformat_minor": 2
}
