{
 "cells": [
  {
   "cell_type": "code",
   "execution_count": 1,
   "metadata": {},
   "outputs": [],
   "source": [
    "#!pip install PyPDF2\n",
    "#!pip install tinydb\n",
    "#!pip install langchain\n",
    "#!pip install langchain-community\n",
    "#!pip install pandas\n"
   ]
  },
  {
   "cell_type": "code",
   "execution_count": 2,
   "metadata": {},
   "outputs": [
    {
     "name": "stderr",
     "output_type": "stream",
     "text": [
      "C:\\Users\\tschoppj\\AppData\\Local\\Temp\\ipykernel_38120\\930510609.py:13: LangChainDeprecationWarning: The class `AzureChatOpenAI` was deprecated in LangChain 0.0.10 and will be removed in 1.0. An updated version of the class exists in the :class:`~langchain-openai package and should be used instead. To use it run `pip install -U :class:`~langchain-openai` and import as `from :class:`~langchain_openai import AzureChatOpenAI``.\n",
      "  llm = AzureChatOpenAI(\n",
      "g:\\Mi unidad\\03 - Agentes IA\\.venv\\Lib\\site-packages\\langchain_community\\chat_models\\azure_openai.py:174: UserWarning: As of openai>=1.0.0, Azure endpoints should be specified via the `azure_endpoint` param not `openai_api_base` (or alias `base_url`). Updating `openai_api_base` from https://sg-openai.openai.azure.com/ to https://sg-openai.openai.azure.com/openai.\n",
      "  warnings.warn(\n",
      "g:\\Mi unidad\\03 - Agentes IA\\.venv\\Lib\\site-packages\\langchain_community\\chat_models\\azure_openai.py:181: UserWarning: As of openai>=1.0.0, if `deployment_name` (or alias `azure_deployment`) is specified then `openai_api_base` (or alias `base_url`) should not be. Instead use `deployment_name` (or alias `azure_deployment`) and `azure_endpoint`.\n",
      "  warnings.warn(\n",
      "g:\\Mi unidad\\03 - Agentes IA\\.venv\\Lib\\site-packages\\langchain_community\\chat_models\\azure_openai.py:189: UserWarning: As of openai>=1.0.0, if `openai_api_base` (or alias `base_url`) is specified it is expected to be of the form https://example-resource.azure.openai.com/openai/deployments/example-deployment. Updating https://sg-openai.openai.azure.com/ to https://sg-openai.openai.azure.com/openai.\n",
      "  warnings.warn(\n"
     ]
    }
   ],
   "source": [
    "# %% [code]\n",
    "import os\n",
    "#from langchain.llms import OpenAI\n",
    "from langchain.prompts import PromptTemplate\n",
    "from langchain.chains import LLMChain\n",
    "import PyPDF2\n",
    "from tinydb import TinyDB, Query\n",
    "from langchain.chat_models import AzureChatOpenAI\n",
    "\n",
    "# Configuración del LLM (ajusta el parámetro 'temperature' o agrega tus credenciales si es necesario)\n",
    "\n",
    "\n",
    "llm = AzureChatOpenAI(\n",
    "    openai_api_base=\"https://sg-openai.openai.azure.com/\",\n",
    "    openai_api_key=\"647e7eaa5678417f8667203df58216ee\",  # Reemplaza con tu clave de API\n",
    "    openai_api_version=\"2023-03-15-preview\",  # Ajusta según la versión que estés usando\n",
    "    deployment_name=\"gpt-4o\",\n",
    "    temperature=0.2\n",
    ")\n",
    "\n",
    "# Inicialización de TinyDB (la base se almacenará en el archivo history.json)\n",
    "db = TinyDB(\"ResCTM.json\")\n",
    "records_table = db.table(\"records\")\n"
   ]
  },
  {
   "cell_type": "markdown",
   "metadata": {},
   "source": [
    "# Funciones de procesamiento"
   ]
  },
  {
   "cell_type": "code",
   "execution_count": 3,
   "metadata": {},
   "outputs": [],
   "source": [
    "# %% [code]\n",
    "def pdf_to_text(pdf_path):\n",
    "    \"\"\"\n",
    "    Extrae el texto de un archivo PDF utilizando PyPDF2.\n",
    "    \"\"\"\n",
    "    text = \"\"\n",
    "    with open(pdf_path, \"rb\") as file:\n",
    "        reader = PyPDF2.PdfReader(file)\n",
    "        for page in reader.pages:\n",
    "            page_text = page.extract_text()\n",
    "            if page_text:\n",
    "                text += page_text + \"\\n\"\n",
    "    return text\n"
   ]
  },
  {
   "cell_type": "markdown",
   "metadata": {},
   "source": [
    "# 1. Corrección de la transcripción usando LangChain"
   ]
  },
  {
   "cell_type": "code",
   "execution_count": 4,
   "metadata": {},
   "outputs": [],
   "source": [
    "# %% [code]\n",
    "correction_prompt = PromptTemplate(\n",
    "    input_variables=[\"text\"],\n",
    "    template=\"Corrige la transcripción del siguiente texto:\\n\\n{text}\\n\\nTexto corregido:\"\n",
    ")\n",
    "\n",
    "def correct_transcription(text):\n",
    "    \"\"\"\n",
    "    Utiliza un LLM para corregir la transcripción extraída del PDF.\n",
    "    \"\"\"\n",
    "    chain = LLMChain(llm=llm, prompt=correction_prompt)\n",
    "    corrected = chain.run(text=text)\n",
    "    return corrected\n"
   ]
  },
  {
   "cell_type": "markdown",
   "metadata": {},
   "source": [
    "# 2. Extracción de datos y generación del resumen"
   ]
  },
  {
   "cell_type": "code",
   "execution_count": 5,
   "metadata": {},
   "outputs": [],
   "source": [
    "# Prompt adaptado con instrucciones específicas\n",
    "extraction_prompt = PromptTemplate(\n",
    "    input_variables=[\"text\", \"template_info\"],\n",
    "    template=(\n",
    "        \"Utilizando el siguiente template:\\n\"\n",
    "        \"{template_info}\\n\\n\"\n",
    "        \"Extrae únicamente los datos solicitados y genera un resumen ejecutivo breve (máximo 30 palabras) \"\n",
    "        \"del tema principal del texto, sin incluir detalles menores ni secundarios.\\n\\n\"\n",
    "        \"Texto:\\n{text}\\n\\n\"\n",
    "        \"Datos extraídos y resumen ejecutivo breve:\"\n",
    "    )\n",
    ")\n",
    "\n",
    "def extract_data_summary(text, extraction_template):\n",
    "    \"\"\"\n",
    "    Extrae datos específicos y genera un resumen ejecutivo breve.\n",
    "    \"\"\"\n",
    "    chain = LLMChain(llm=llm, prompt=extraction_prompt)\n",
    "    result = chain.run(text=text, template_info=extraction_template)\n",
    "    return result\n"
   ]
  },
  {
   "cell_type": "markdown",
   "metadata": {},
   "source": [
    "# 3. Clasificación de la resolución"
   ]
  },
  {
   "cell_type": "code",
   "execution_count": 6,
   "metadata": {},
   "outputs": [],
   "source": [
    "CATEGORIAS_CTMSG = {\n",
    "    \"Reglamentación y Normativas\": [\n",
    "        \"REGLAMENTO\",\n",
    "        \"MANUAL DE NORMA\",\n",
    "        \"MANUAL Normas Compras y Contrataciones\",\n",
    "        \"NORMA ISO\",\n",
    "        \"LICENCIA ESPECIAL\",\n",
    "        \"ESTATUTO DEL PERSONAL\",\n",
    "        \"SUMARIO ADMINISTRATIVO\"\n",
    "    ],\n",
    "    \"Administración Financiera y Contable\": [\n",
    "        \"REMUNERACIONES\",\n",
    "        \"REGISTRACION CONTABLE\",\n",
    "        \"BALANCES\",\n",
    "        \"BANCOS\",\n",
    "        \"PRESUPUESTOS\",\n",
    "        \"TARIFAS ENERGÍA\"\n",
    "    ],\n",
    "    \"Contrataciones y Convenios\": [\n",
    "        \"CONVENIO\",\n",
    "        \"CONTRATACIONES Y COMPRAS\",\n",
    "        \"COMPRAS AUTOMOTORES\",\n",
    "        \"CONCURSOS PRECIOS\",\n",
    "        \"PODERES ABOGADOS\"\n",
    "    ],\n",
    "    \"Infraestructura y Mantenimiento\": [\n",
    "        \"EDIFICIOS\",\n",
    "        \"VIVIENDAS\",\n",
    "        \"EQUIPAMIENTO REPRESA\",\n",
    "        \"MANTENIMIENTO\",\n",
    "        \"TRANSFORMADORES\",\n",
    "        \"SEGURIDAD PRESA\",\n",
    "        \"PUERTO SECO\"\n",
    "    ],\n",
    "    \"Servicios Médicos y Sociales\": [\n",
    "        \"PRESTAMOS PERSONAL\",\n",
    "        \"SERVICIOS MÉDICOS\",\n",
    "        \"ATENCIÓN MÉDICA\",\n",
    "        \"SEGUROS VIDA\"\n",
    "    ],\n",
    "    \"Comunicaciones y Relaciones Institucionales\": [\n",
    "        \"RELACIONES PÚBLICAS\",\n",
    "        \"COMUNICACIÓN INSTITUCIONAL\",\n",
    "        \"PUBLICIDAD\",\n",
    "        \"LOGOTIPO\",\n",
    "        \"FIRMA DIGITAL\",\n",
    "        \"PAGINA WEB\"\n",
    "    ],\n",
    "    \"Auditorías y Control Interno\": [\n",
    "        \"AUDITORIA INTERNA\",\n",
    "        \"AUDITORÍA EXTERNA\",\n",
    "        \"CONTROL GESTIÓN\"\n",
    "    ],\n",
    "    \"Recursos Humanos\": [\n",
    "        \"CONTROL ASISTENCIA\",\n",
    "        \"EPIDEMIOLOGÍA\",\n",
    "        \"CURSOS Y SEMINARIOS\",\n",
    "        \"DESVINCULACIONES\"\n",
    "    ],\n",
    "    \"Ambiental y Social\": [\n",
    "        \"RIBEREÑOS\",\n",
    "        \"MERCOSUR\",\n",
    "        \"MERCADOS ELÉCTRICOS\",\n",
    "        \"CULTURALES\",\n",
    "        \"SAOTTA\"\n",
    "    ],\n",
    "    \"Gestión y Operaciones\": [\n",
    "        \"DIRECCIÓN EJECUTIVA\",\n",
    "        \"GERENCIA\",\n",
    "        \"DELEGACIONES\",\n",
    "        \"TAISG\",\n",
    "        \"HORARIOS OFICINAS\",\n",
    "        \"GRUPOS TRABAJO\",\n",
    "        \"CENTRO DOCUMENTACIÓN\",\n",
    "        \"RENOVACIÓN SALTO GRANDE\"\n",
    "    ]\n",
    "}\n"
   ]
  },
  {
   "cell_type": "code",
   "execution_count": 7,
   "metadata": {},
   "outputs": [],
   "source": [
    "# Prompt adaptado\n",
    "classification_prompt = PromptTemplate(\n",
    "    input_variables=[\"text\", \"data_summary\", \"categorias\"],\n",
    "    template=(\n",
    "        \"Basándote en el siguiente texto y en los datos extraídos y resumen:\\n\\n\"\n",
    "        \"Texto: {text}\\n\\n\"\n",
    "        \"Datos y resumen: {data_summary}\\n\\n\"\n",
    "        \"Considerando estas categorías disponibles: {categorias}\\n\\n\"\n",
    "        \"Clasifica la resolución estrictamente dentro de una de estas categorías principales.\"\n",
    "    )\n",
    ")\n",
    "\n",
    "# Función ajustada\n",
    "def classify_resolution(text, data_summary):\n",
    "    categorias_str = ', '.join(CATEGORIAS_CTMSG.keys())\n",
    "    chain = LLMChain(llm=llm, prompt=classification_prompt)\n",
    "    classification = chain.run(text=text, data_summary=data_summary, categorias=categorias_str)\n",
    "    return classification\n"
   ]
  },
  {
   "cell_type": "markdown",
   "metadata": {},
   "source": [
    "# Función principal para procesar el PDF y guardar la información en TinyDB"
   ]
  },
  {
   "cell_type": "code",
   "execution_count": 8,
   "metadata": {},
   "outputs": [],
   "source": [
    "import re\n",
    "\n",
    "def parse_data_summary(data_summary):\n",
    "    \"\"\"\n",
    "    Divide el resumen extraído en campos separados.\n",
    "    \"\"\"\n",
    "    fields = [\"Número de resolución\", \"Fecha\", \"Ente emisor\", \"Resumen ejecutivo breve\"]\n",
    "    parsed_data = {}\n",
    "\n",
    "    for field in fields:\n",
    "        pattern = rf\"{field}:\\s*(.+)\"\n",
    "        match = re.search(pattern, data_summary)\n",
    "        if match:\n",
    "            parsed_data[field] = match.group(1).strip()\n",
    "        else:\n",
    "            parsed_data[field] = None\n",
    "\n",
    "    return parsed_data"
   ]
  },
  {
   "cell_type": "code",
   "execution_count": 9,
   "metadata": {},
   "outputs": [],
   "source": [
    "# %% [code]\n",
    "def process_pdf(pdf_path, extraction_template, db_table):\n",
    "    \"\"\"\n",
    "    Procesa un archivo PDF completo: extrae el texto, lo corrige,\n",
    "    extrae datos y resumen, clasifica la resolución y guarda todo en TinyDB.\n",
    "    \"\"\"\n",
    "    file_name = os.path.basename(pdf_path)\n",
    "    \n",
    "    # Verificar si el documento ya se encuentra en la base de datos\n",
    "    Record = Query()\n",
    "    if db_table.search(Record.pdf_file == file_name):\n",
    "        print(f\"El documento {file_name} ya se encuentra registrado en TinyDB.\")\n",
    "        return\n",
    "\n",
    "    # Extracción de texto\n",
    "    raw_text = pdf_to_text(pdf_path)\n",
    "    print(f\"Texto extraído del archivo {file_name}.\")\n",
    "    \n",
    "    # Corrección de la transcripción\n",
    "    corrected_text = correct_transcription(raw_text)\n",
    "    print(\"Transcripción corregida.\")\n",
    "    \n",
    "    # Extracción de datos y resumen\n",
    "    extracted_result = extract_data_summary(corrected_text, extraction_template)\n",
    "    print(\"Datos y resumen extraídos.\")\n",
    "    \n",
    "    # Clasificación de la resolución\n",
    "    classification = classify_resolution(corrected_text, extracted_result)\n",
    "    print(\"Clasificación realizada.\")\n",
    "    \n",
    "    # Crear el registro con la información resultante\n",
    "    parsed_summary = parse_data_summary(extracted_result)\n",
    "\n",
    "    record = {\n",
    "        \"pdf_file\": file_name,\n",
    "        \"text\": corrected_text,\n",
    "        \"numero_resolucion\": parsed_summary[\"Número de resolución\"],\n",
    "        \"fecha\": parsed_summary[\"Fecha\"],\n",
    "        \"ente_emisor\": parsed_summary[\"Ente emisor\"],\n",
    "        \"resumen_ejecutivo\": parsed_summary[\"Resumen ejecutivo breve\"],\n",
    "        \"classification\": classification\n",
    "    }\n",
    "    \n",
    "    # Guardar el registro en TinyDB\n",
    "    db_table.insert(record)\n",
    "    print(f\"El documento {file_name} ha sido registrado en TinyDB.\")\n",
    "\n",
    "    return record\n"
   ]
  },
  {
   "cell_type": "markdown",
   "metadata": {},
   "source": [
    "# Ejecución del procesamiento"
   ]
  },
  {
   "cell_type": "code",
   "execution_count": 10,
   "metadata": {},
   "outputs": [
    {
     "name": "stdout",
     "output_type": "stream",
     "text": [
      "Texto extraído del archivo res00122.pdf.\n"
     ]
    },
    {
     "name": "stderr",
     "output_type": "stream",
     "text": [
      "C:\\Users\\tschoppj\\AppData\\Local\\Temp\\ipykernel_38120\\3386155856.py:11: LangChainDeprecationWarning: The class `LLMChain` was deprecated in LangChain 0.1.17 and will be removed in 1.0. Use :meth:`~RunnableSequence, e.g., `prompt | llm`` instead.\n",
      "  chain = LLMChain(llm=llm, prompt=correction_prompt)\n",
      "C:\\Users\\tschoppj\\AppData\\Local\\Temp\\ipykernel_38120\\3386155856.py:12: LangChainDeprecationWarning: The method `Chain.run` was deprecated in langchain 0.1.0 and will be removed in 1.0. Use :meth:`~invoke` instead.\n",
      "  corrected = chain.run(text=text)\n"
     ]
    },
    {
     "name": "stdout",
     "output_type": "stream",
     "text": [
      "Transcripción corregida.\n",
      "Datos y resumen extraídos.\n",
      "Clasificación realizada.\n",
      "El documento res00122.pdf ha sido registrado en TinyDB.\n",
      "Texto extraído del archivo res00222.pdf.\n",
      "Transcripción corregida.\n",
      "Datos y resumen extraídos.\n",
      "Clasificación realizada.\n",
      "El documento res00222.pdf ha sido registrado en TinyDB.\n"
     ]
    }
   ],
   "source": [
    "# %% [code]\n",
    "# Template explícito para extracción\n",
    "extraction_template = (\n",
    "    \"- Número de resolución:\\n\"\n",
    "    \"- Fecha:\\n\"\n",
    "    \"- Ente emisor:\\n\"\n",
    "    \"- Resumen ejecutivo breve (máximo 30 palabras, tema principal solamente):\"\n",
    ")\n",
    "\n",
    "# Carpeta donde se encuentran los archivos PDF\n",
    "pdf_folder = \"pdfs\"  # Asegúrate de tener esta carpeta y colocar allí tus PDFs\n",
    "\n",
    "# Procesar cada PDF nuevo en la carpeta\n",
    "for file_name in os.listdir(pdf_folder):\n",
    "    if file_name.lower().endswith(\".pdf\"):\n",
    "        pdf_path = os.path.join(pdf_folder, file_name)\n",
    "        process_pdf(pdf_path, extraction_template, records_table)\n"
   ]
  },
  {
   "cell_type": "markdown",
   "metadata": {},
   "source": [
    "# Función para procesar un nuevo PDF individualmente"
   ]
  },
  {
   "cell_type": "code",
   "execution_count": 11,
   "metadata": {},
   "outputs": [
    {
     "name": "stdout",
     "output_type": "stream",
     "text": [
      "Texto extraído del archivo res00322.pdf.\n",
      "Transcripción corregida.\n",
      "Datos y resumen extraídos.\n",
      "Clasificación realizada.\n",
      "El documento res00322.pdf ha sido registrado en TinyDB.\n",
      "{'pdf_file': 'res00322.pdf', 'text': 'COMISIÓN TÉCNICA MIXTA DE SALTO GRANDE  \\nVideoconferencia, 26 de enero de 2022  \\nRESOLUCIÓN CTM Nº 003/22 (Acta Nº 1127 - as. 8.3) \\n\\nVISTO: el EE 2021-AECO-0271, mediante el cual la Gerencia General da cuenta del interés de suscribir un Convenio Marco entre la C.T.M.S.G. y la Dirección Nacional de Recursos Acuáticos (DINARA) del Ministerio de Ganadería, Agricultura y Pesca de la República Oriental del Uruguay, con el objeto de establecer un marco de cooperación técnica e interinstitucional entre las Partes en materia de investigación, promoción y fomento del desarrollo acuícola en la región; y  \\n\\nCONSIDERANDO: que la Gerencia de Ingeniería y Planeamiento, en la actuación 1, informa que dentro de los lineamientos que se han aprobado en el Plan de Gestión Ambiental, mediante Resolución CTM Nº 170/18, se ha desarrollado un vínculo con la Dirección Nacional de Recursos Acuáticos del Uruguay (DINARA) y, en particular, con su Centro de Acuicultura e Investigaciones Pesqueras (CAIP), ubicado en Villa Constitución, Salto, con el objetivo de desarrollar acciones dirigidas a la ejecución y desarrollo de una Unidad de Producción Acuícola de especies nativas del río Uruguay, contemplando aspectos de producción, investigación, experimentación, demostración y capacitación en piscicultura de especies dulceacuícolas nativas de importancia comercial; \\nque, consultada la Asesoría Letrada en actuación 4, mediante Memorándum Nº 357/2021, eleva los lineamientos del referido Convenio a suscribir; \\nque, para la ejecución de las modalidades de cooperación y desarrollo de cada acción o proyecto, se establecerán en cada caso mediante Actas Complementarias; y \\nlo deliberado en Sala;  \\n\\nLA COMISIÓN TÉCNICA MIXTA DE SALTO GRANDE  \\nR E S U E L V E :  \\n1. AUTORIZAR los lineamientos del texto de Convenio a suscribir con el Ministerio de Ganadería, Agricultura y Pesca de la República Oriental del Uruguay, con el objeto de establecer un marco de cooperación técnica e interinstitucional entre las Partes en materia de investigación, promoción y fomento del desarrollo acuícola en la región, cuyos lineamientos como Anexo I, se adjuntan y forman parte de la presente.  \\n2. ENCOMENDAR a la Asesoría Letrada en coordinación con la Gerencia General la elaboración del documento definitivo y su suscripción.  \\n3. FACULTAR a los Gerentes Generales a suscribir en representación de la C.T.M.S.G. el documento contractual.  \\n4. IMPUTAR los gastos emergentes al Recurso 22-853-1540-C2 del Presupuesto Ejercicio 2022.  \\n5. ENCOMENDAR a la Gerencia General las acciones necesarias para el cumplimiento de lo resuelto.  \\n\\nCOMISIÓN TÉCNICA MIXTA DE SALTO GRANDE  \\nRESOLUCIÓN CTM Nº 003/22 (Acta Nº 1127 - as. 8.3) \\n\\n6. COMUNICAR la presente Resolución a las Delegaciones Argentina y del Uruguay, a la Gerencia General, a la Asesoría Letrada, a las Auditorías Generales y al Polo Educativo, Científico, Tecnológico y Productivo de Salto Grande. \\n7. PASE, a sus efectos, a la Secretaría General.  \\n\\nNicolás Irigoyen  Luis Benedetto  \\nProsecretario  Presidente  \\n\\nCOMISIÓN TÉCNICA MIXTA DE SALTO GRANDE \\nRESOLUCIÓN CTM Nº 003/22 (Acta Nº 1127 - as. 8.3) \\nPág. 1 \\nANEXO I \\nACUERDO MARCO ENTRE EL MINISTERIO DE GANADERÍA, AGRICULTURA Y PESCA DE LA REPÚBLICA ORIENTAL DEL URUGUAY Y LA COMISIÓN TÉCNICA MIXTA DE SALTO GRANDE (ARGENTINA-URUGUAY) \\nEn la ciudad de Montevideo, el día……….. de…………………..de 2022, entre, POR UNA PARTE: EL MINISTERIO DE GANADERÍA, AGRICULTURA Y PESCA DE LA REPÚBLICA ORIENTAL DEL URUGUAY (en adelante MGAP), representado en este acto por el señor Fernando Mattos con domicilio en Constituyente 1476, Montevideo – Uruguay y POR LA OTRA PARTE: LA COMISIÓN TÉCNICA MIXTA DE SALTO GRANDE (en adelante CTMSG), representada en este acto por su Presidente … …… y su Secretario ……, con Sede en la Avda. Leandro N. Alem Nº 449 - piso 7 de la Ciudad Autónoma de Buenos Aires, República Argentina, partes estas que, teniendo en cuenta los Antecedentes que se exponen, convienen en celebrar el presente Acuerdo Marco de Cooperación, según las cláusulas que a continuación se consignan:…………………….. \\n\\nANTECEDENTES  \\na) Dirección Nacional de Recursos Acuáticos del Ministerio de Ganadería, Agricultura y Pesca de Uruguay (DINARA), unidad ejecutora perteneciente al Ministerio de Ganadería, Agricultura y Pesca (MGAP). Es el Organismo rector en materia de pesca y acuicultura, cuya misión es desarrollar, orientar, ejecutar, controlar y promover la diversificación de la producción acuícola y pesquera en todos sus aspectos, relacionados con el aprovechamiento responsable de los recursos hidrobiológicos y ecosistémicos. \\nb) La Comisión Técnica Mixta de Salto Grande es un Organismo Binacional creado por el Acuerdo suscripto entre los Gobiernos de la República Argentina y de la República Oriental del Uruguay, el 30 de diciembre de 1946, ratificado por el Gobierno de Uruguay por Ley Nº 12.517. Como tal está dotada de capacidad jurídica para actuar pública y privadamente en el cumplimiento de sus cometidos, siendo una persona jurídica diferente de los Estados que la crearan. Conforme la introducción del citado Acuerdo, su objeto es “obtener el mayor beneficio de las disposiciones naturales que ofrecen los rápidos del Río Uruguay en la zona de Salto Grande, para el desarrollo económico, industrial y social de ambos países y, con el fin de mejorar la navegabilidad, aprovechar sus aguas para la producción de energía y facilitar la vinculación de sus comunicaciones terrestres, así como cualquier otro objeto que, sin menoscabo de los anteriores propósitos, concurran al enunciado beneficio común.” En dicho marco llevó a cabo la construcción del Complejo Hidroeléctrico de Salto Grande, el cual administra y explota, para la producción y suministro de energía eléctrica a ambos países, preservando el medio ambiente, contribuyendo al desarrollo socioeconómico y a la integración de Argentina y Uruguay.  \\n\\nHan acordado lo siguiente: \\n\\nARTÍCULO 1 \\nOBJETO: El presente Acuerdo Marco tiene por objeto establecer un marco de cooperación técnica e interinstitucional entre las Partes en materia de investigación, promoción y fomento del desarrollo acuícola en la región. \\n\\nARTÍCULO 2 \\nMODALIDADES DE COOPERACIÓN: \\nPara los fines de este convenio, la cooperación técnica e interinstitucional podrá asumir cualquiera de las modalidades que se enumeran en la presente cláusula, la cual no posee carácter taxativo ni resulta excluyente de cualquiera otra modalidad que pueda ser considerada de interés por las Partes:  \\nI) Realización conjunta o coordinada de programas y proyectos que sean de interés de las Partes, con vistas al logro de una sinergia institucional;  \\nII) Fortalecimiento de las respectivas capacidades de aplicación de desarrollos tecnológicos y de investigación;  \\nIII) Financiamiento de equipamiento, actividades y movilidad de técnicos vinculados al desarrollo de ambas instituciones.  \\n\\nARTÍCULO 3 \\nACTAS COMPLEMENTARIAS  \\nLa ejecución de las modalidades de cooperación y el desarrollo de cada acción o proyecto que se lleve a cabo en el marco del presente convenio, se establecerán en cada caso y previo al inicio, mediante Actas Complementarias que oportunamente se elaborarán al respecto y en las que se consignará claramente el objeto, los plazos, y las responsabilidades de cada una de las Partes, los participantes y la financiación.  \\n\\nARTÍCULO 4 \\nINDEPENDENCIA DE LAS PARTES \\nAmbas Partes mantendrán la independencia de sus administraciones, siendo cada una responsable del personal propio que resulte afectado a cualquiera de las modalidades de cooperación que oportunamente se acuerden, en todos los aspectos que hacen a la relación laboral, asumiendo cada una las propias responsabilidades de su accionar más allá aún de la materia laboral, manteniendo indemne a la otra.  \\n\\nARTÍCULO 5 \\nPARTICIPACIÓN DE TERCEROS \\nSi fuere necesaria la participación de otros actores públicos o privados, en las acciones que las Partes acuerden en el marco del presente, la misma será objeto de acuerdos o actas previos complementarios que ambas Partes habrán de suscribir si así estuvieren conformes. Los acuerdos complementarios que se celebren a efectos de la ejecución de este Convenio serán considerados parte integrante del mismo y se ajustarán a las normas vigentes en cada una de las Partes. \\n\\nARTÍCULO 6 \\nCOMUNICACIONES \\nAmbas Partes aprueban que la información intercambiada entre ellas es de carácter confidencial y no de dominio público, de conformidad con las leyes, políticas y procedimientos aplicables de cada país, salvo excepción establecida expresamente por escrito y de común acuerdo. \\n\\nARTÍCULO 7 \\nOBLIGACIONES \\nMGAP-DINARA: La DINARA: 1) conducirá los trabajos necesarios para el logro de los objetivos definidos; 2) designará oportunamente un responsable del presente Acuerdo, con funciones de coordinación y responsabilidad de la ejecución técnica y administrativa de las actividades correspondientes, debiendo elevar a la Dirección Nacional (DINARA) los informes de avance y final de las mismas. \\nOBLIGACIONES DE LA CTM: La CTM, a través de la Gerencia de Ingeniería y Planeamiento, Área de Gestión Ambiental: 1) designará oportunamente un responsable del presente acuerdo, con funciones de coordinación administrativa de las actividades correspondientes a la CTM; 2) se compromete a aportar los recursos económicos necesarios para el logro de los objetivos iniciados en la cláusula primera, de acuerdo a las disponibilidades presupuestales del organismo; 3) se obliga a comunicar previamente por escrito a la DINARA sobre los cambios eventuales que pudieran producirse, con la obligación que los mismos no afecten el objetivo del presente acuerdo ni el programa de actividades estipulado. \\n\\nARTÍCULO 8 \\nFINANCIAMIENTO \\nLos gastos derivados de las actividades de cooperación que se acuerden y desarrollen en el marco del presente Acuerdo serán sufragados por CTM, de acuerdo con lo que se establezca al inicio de cada actividad de cooperación que se desarrolle y a las disponibilidades presupuestales del organismo. Asimismo, las Partes podrán solicitar financiamiento, administración o gestión de los recursos, a organismos internacionales, organismos públicos o privados, nacionales o internacionales, fundaciones entre otros, para la ejecución y coordinación de los programas, proyectos o actividades realizados al amparo del presente Acuerdo. \\n\\nARTÍCULO 9 \\nPUBLICACIÓN. NORMAS \\nLos resultados parciales o definitivos que se obtengan en virtud del presente Convenio podrán ser publicados de común acuerdo, dejándose constancia en las publicaciones de la participación de cada una de las Partes. En cualquier caso, toda publicación o documento relacionado con este instrumento y producido en forma unilateral, hará siempre referencia al presente Convenio firmado. Las Partes deberán manifestar claramente la colaboración prestada por la otra sin que ello signifique responsabilidad alguna para esta respecto al contenido de la publicación o documento.  \\n\\nARTÍCULO 10 \\nRESCISIÓN DEL CONVENIO \\nCualquiera de las Partes suscriptoras del presente Convenio de Cooperación, podrán solicitar su rescisión, notificando tal voluntad a la otra parte de manera expresa y por medio fehaciente, indicando en tal comunicación la fecha de la efectiva rescisión, comunicación que habrá de realizarse con una antelación no menor de 60 (sesenta) días del cese efectivo.  \\nLa rescisión del presente convenio no implicará responsabilidad para ninguna de las partes y no interrumpirá la ejecución de los proyectos iniciados y vinculados en el cronograma de actividades para la finalización de año correspondiente presentando el informe final pertinente.  \\n\\nARTÍCULO 11 \\nREPRESENTANTES DE LAS PARTES \\nLas Partes se comprometen a designar los respectivos funcionarios que habrán de ser los interlocutores institucionales en todo lo referente al presente convenio marco de cooperación. Dichas designaciones, habrán de ser notificadas en un plazo de 30 (treinta) días a partir de la firma del presente.  \\n\\nARTÍCULO 12 \\nSOLUCIÓN DE CONTROVERSIAS \\nLas Partes acuerdan la jurisdicción y competencia del Tribunal Arbitral Internacional de Salto Grande –conforme su Estatuto y Procedimiento– para la solución de toda controversia o diferencia que se suscite en ocasión del presente Convenio y con renuncia expresa a cualquier otro fuero o jurisdicción que pudiere corresponder. \\n\\nARTÍCULO 13 \\nDOMICILIOS ESPECIALES: \\nLas Partes constituyen domicilios especiales a todos los efectos de este Acuerdo en los indicados como suyos en la comparecencia. \\n\\nARTÍCULO 14 \\nPLAZO \\nEl plazo del presente convenio será de un año a partir de su suscripción, y se renovará automáticamente por períodos iguales y consecutivos siempre que ninguna de las Partes anuncie su voluntad por escrito de darlo por finalizado con una anticipación no inferior a (60) sesenta días respecto al vencimiento del plazo inicial o alguna de sus prórrogas. El vencimiento del plazo o la finalización del mismo, no interrumpirá la ejecución de los proyectos vinculados al mismo. \\n\\nPara constancia y en señal de conformidad se suscriben dos ejemplares de un mismo tenor en el lugar y fecha antes indicados.  \\n\\nPor la Comisión Técnica Mixta de Salto Grande  \\nPor el Ministerio de Ganadería, Agricultura y Pesca', 'numero_resolucion': 'CTM Nº 003/22', 'fecha': '26 de enero de 2022', 'ente_emisor': 'Comisión Técnica Mixta de Salto Grande', 'resumen_ejecutivo': 'Autorización de un convenio de cooperación técnica con el Ministerio de Ganadería, Agricultura y Pesca de Uruguay para el desarrollo acuícola en la región.', 'classification': 'La resolución CTM Nº 003/22 se clasifica estrictamente dentro de la categoría de \"Contrataciones y Convenios\". Esta clasificación se debe a que la resolución se centra en la autorización y los lineamientos para la suscripción de un convenio de cooperación técnica e interinstitucional entre la Comisión Técnica Mixta de Salto Grande y el Ministerio de Ganadería, Agricultura y Pesca de Uruguay.'}\n"
     ]
    }
   ],
   "source": [
    "# %% [code]\n",
    "def procesar_nuevo_pdf(pdf_path, extraction_template, db_table):\n",
    "    \"\"\"\n",
    "    Procesa un nuevo PDF individualmente y lo añade a la base de datos TinyDB.\n",
    "    \"\"\"\n",
    "        # Crear el registro con la información resultante\n",
    "    record = {\n",
    "        \"pdf_file\": \"New Resolucion\",\n",
    "        \"text\": \"corrected_text\",\n",
    "        \"data_summary\": \"extracted_result\",\n",
    "        \"classification\": \"classification\"\n",
    "    }\n",
    "\n",
    "    file_name = os.path.basename(pdf_path)\n",
    "    Record = Query()\n",
    "    if db_table.search(Record.pdf_file == file_name):\n",
    "        print(f\"El documento {file_name} ya se encuentra registrado.\")\n",
    "        return\n",
    "    else:\n",
    "        record = process_pdf(pdf_path, extraction_template, db_table)\n",
    "        print(record)\n",
    "        \n",
    "\n",
    "#Ejemplo de llamada para procesar un nuevo PDF:\n",
    "nuevo_pdf = \"pdfs/new/res00322.pdf\"\n",
    "procesar_nuevo_pdf(nuevo_pdf, extraction_template, records_table)\n",
    "\n"
   ]
  },
  {
   "cell_type": "markdown",
   "metadata": {},
   "source": [
    "# Inspeccion de DB"
   ]
  },
  {
   "cell_type": "code",
   "execution_count": 15,
   "metadata": {},
   "outputs": [
    {
     "name": "stdout",
     "output_type": "stream",
     "text": [
      "pdf_file:\n",
      "res00222.pdf\n",
      "--------------------------------------------------\n",
      "text:\n",
      "COMISIÓN TÉCNICA MIXTA DE SALTO GRANDE  \n",
      "Videoconferencia, 26 de enero de 2022  \n",
      "RESOLUCIÓN CTM Nº 002/22 (Acta Nº 1127 - as. 8.2) \n",
      " \n",
      "VISTO: el EE 2021-SCYC-0144 en el que tramita la Resolución CTM Nº 173/21 de fecha 15.09.21, que deja sin efecto la Resolución CTM Nº 140/21 y aprueba el Pliego de Ba...\n",
      "--------------------------------------------------\n",
      "numero_resolucion:\n",
      "CTM Nº 002/22\n",
      "--------------------------------------------------\n",
      "fecha:\n",
      "26 de enero de 2022\n",
      "--------------------------------------------------\n",
      "ente_emisor:\n",
      "Comisión Técnica Mixta de Salto Grande\n",
      "--------------------------------------------------\n",
      "resumen_ejecutivo:\n",
      "Se declara fracasada la Licitación Pública del Contrato SG-723 “Reconversión de monte forestal en ambientes nativos”.\n",
      "--------------------------------------------------\n",
      "classification:\n",
      "La resolución CTM Nº 002/22, que declara fracasada la Licitación Pública del Contrato SG-723 “Reconversión de monte forestal en ambientes nativos”, se clasifica estrictamente dentro de la categoría principal de \"Contrataciones y Convenios\"....\n",
      "--------------------------------------------------\n",
      "{'pdf_file': 'res00222.pdf', 'text': 'COMISIÓN TÉCNICA MIXTA DE SALTO GRANDE  \\nVideoconferencia, 26 de enero de 2022  \\nRESOLUCIÓN CTM Nº 002/22 (Acta Nº 1127 - as. 8.2) \\n \\nVISTO: el EE 2021-SCYC-0144 en el que tramita la Resolución CTM Nº 173/21 de fecha 15.09.21, que deja sin efecto la Resolución CTM Nº 140/21 y aprueba el Pliego de Bases y Condiciones de la Licitación Pública del Contrato SG-723 “Reconversión de monte forestal en ambientes nativos” y dispone su llamado; y  \\nCONSIDERANDO: que, el 10.12.21 se efectuó el acto de apertura de ofertas, habiéndose presentado las firmas: Bidegain Servicios y Etchevers Francisco;  \\nque, la Asesoría Letrada en la actuación 18 considera admisibles las ofertas recibidas, pero observa que ambas superan ampliamente el monto pre-valorizado, por lo que recomienda declarar fracasada la referida Licitación;  \\nque, en la actuación 21 el Área Gestión Ambiental eleva el informe técnico de las ofertas, considerando admisible únicamente la de Bidegain Servicios;  \\nque, la Gerencia de Ingeniería y Planeamiento en la actuación 22 acompaña la recomendación de la Asesoría Letrada en cuanto al fracaso del proceso;  \\nque, la Gerencia General en la actuación 25, tomando en cuenta lo informado en las actuaciones 23 y 24, y la propuesta de la Asesoría Letrada eleva a consideración declarar fracasada la Licitación Pública del Contrato SG-723;  \\nlo establecido en el artículo 5.1. del Manual de Normas 003 - Compras y Contrataciones; y  \\nlo deliberado en Sala;  \\nLA COMISIÓN TÉCNICA MIXTA DE SALTO GRANDE  \\nR E S U E L V E:  \\n1. DECLARAR FRACASADA la Licitación Pública del Contrato SG-723 “Reconversión de monte forestal en ambientes nativos”, dispuesta por la Resolución CTM Nº 173/21 de fecha 15.09.21.  \\n2. ENCOMENDAR a la Gerencia General las acciones necesarias para el cumplimiento de lo resuelto, como así también las notificaciones correspondientes, así como las acciones necesarias para el cumplimiento del objeto de la licitación fracasada a través de los procedimientos que correspondan.  \\n3. COMUNICAR la presente Resolución a las Delegaciones Argentina y del Uruguay, a la Gerencia General, a la Asesoría Letrada, a las Auditorías Generales y al Polo Educativo, Científico, Tecnológico y Productivo de Salto Grande.  \\n4. PASE, a sus efectos, a la Secretaría General.  \\n \\nNicolás Irigoyen  \\nProsecretario  \\n\\nLuis Benedetto  \\nPresidente', 'numero_resolucion': 'CTM Nº 002/22', 'fecha': '26 de enero de 2022', 'ente_emisor': 'Comisión Técnica Mixta de Salto Grande', 'resumen_ejecutivo': 'Se declara fracasada la Licitación Pública del Contrato SG-723 “Reconversión de monte forestal en ambientes nativos”.', 'classification': 'La resolución CTM Nº 002/22, que declara fracasada la Licitación Pública del Contrato SG-723 “Reconversión de monte forestal en ambientes nativos”, se clasifica estrictamente dentro de la categoría principal de \"Contrataciones y Convenios\".'}\n"
     ]
    }
   ],
   "source": [
    "import pandas as pd\n",
    "\n",
    "db = TinyDB(\"ResCTM.json\")\n",
    "records_table = db.table(\"records\")\n",
    "\n",
    "registro_4 = records_table.get(doc_id=2)\n",
    "if registro_4:\n",
    "    for campo, valor in registro_4.items():\n",
    "        print(f\"{campo}:\")\n",
    "        if isinstance(valor, str) and len(valor) > 150:\n",
    "            print(valor[:300] + \"...\")\n",
    "        else:\n",
    "            print(valor)\n",
    "        print(\"-\" * 50)\n",
    "else:\n",
    "    print(\"Registro no encontrado.\")\n",
    "\n",
    "print(registro_4)"
   ]
  },
  {
   "cell_type": "code",
   "execution_count": 13,
   "metadata": {},
   "outputs": [],
   "source": [
    "#db = TinyDB('historial.json')\n",
    "#db.truncate()  # Esto vacía completamente la base de datos\n",
    "#db.close()"
   ]
  }
 ],
 "metadata": {
  "kernelspec": {
   "display_name": "Python 3",
   "language": "python",
   "name": "python3"
  },
  "language_info": {
   "codemirror_mode": {
    "name": "ipython",
    "version": 3
   },
   "file_extension": ".py",
   "mimetype": "text/x-python",
   "name": "python",
   "nbconvert_exporter": "python",
   "pygments_lexer": "ipython3",
   "version": "3.9.6"
  }
 },
 "nbformat": 4,
 "nbformat_minor": 2
}
